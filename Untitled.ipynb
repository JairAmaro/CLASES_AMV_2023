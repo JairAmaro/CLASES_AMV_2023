{
  "nbformat": 4,
  "nbformat_minor": 0,
  "metadata": {
    "colab": {
      "provenance": [],
      "authorship_tag": "ABX9TyPLac8HqSQtrfowA8oVH0WN"
    },
    "kernelspec": {
      "name": "python3",
      "display_name": "Python 3"
    },
    "language_info": {
      "name": "python"
    }
  },
  "cells": [
    {
      "cell_type": "code",
      "execution_count": 2,
      "metadata": {
        "colab": {
          "base_uri": "https://localhost:8080/"
        },
        "id": "c5Muv_nVpqSI",
        "outputId": "15092c76-f82e-453d-f976-d0f53fe69a38"
      },
      "outputs": [
        {
          "output_type": "stream",
          "name": "stdout",
          "text": [
            "Cloning into 'amv_2023_2'...\n",
            "remote: Enumerating objects: 31, done.\u001b[K\n",
            "remote: Counting objects: 100% (31/31), done.\u001b[K\n",
            "remote: Compressing objects: 100% (24/24), done.\u001b[K\n",
            "remote: Total 31 (delta 7), reused 29 (delta 5), pack-reused 0\u001b[K\n",
            "Unpacking objects: 100% (31/31), 2.64 MiB | 6.69 MiB/s, done.\n"
          ]
        }
      ],
      "source": [
        "!git clone https://github.com/JGFuentesC/amv_2023_2.git\n"
      ]
    },
    {
      "cell_type": "code",
      "source": [],
      "metadata": {
        "id": "8Gq3WYRapsP_"
      },
      "execution_count": null,
      "outputs": []
    }
  ]
}